{
 "cells": [
  {
   "cell_type": "markdown",
   "metadata": {},
   "source": [
    "# Using Requests to interact with the GitHub API"
   ]
  },
  {
   "cell_type": "markdown",
   "metadata": {},
   "source": [
    "This is a little introduction to using the [Requests](http://docs.python-requests.org/en/master/) library to interact with the [GitHub API](https://developer.github.com/v3/). The documentation for each is excellent, so the idea here is to give a few flavours of how they interact with one-another, and not to redundantly document the tools themselves."
   ]
  },
  {
   "cell_type": "markdown",
   "metadata": {},
   "source": [
    "First, import some useful functionality:"
   ]
  },
  {
   "cell_type": "code",
   "execution_count": 5,
   "metadata": {
    "collapsed": true
   },
   "outputs": [],
   "source": [
    "from pprint import pprint\n",
    "from pathlib import Path\n",
    "\n",
    "import requests"
   ]
  },
  {
   "cell_type": "markdown",
   "metadata": {},
   "source": [
    "Next, get hold of a [GitHub personal access token](https://help.github.com/articles/creating-a-personal-access-token-for-the-command-line/) with the \"Read:Org\" scope selected:\n",
    "\n",
    "![](PAT_creation.png)\n",
    "\n",
    "You may choose to save the token in a file called token.txt, and read it in with the code below. Alternatively, just create a variable called ```token='<my_token>'```.\n",
    "\n",
    "Note: You will not be able to get the token from the GitHub interface after it has been displayed for the first time, so it is recommended to save it somewhere (like a keychain)."
   ]
  },
  {
   "cell_type": "code",
   "execution_count": 2,
   "metadata": {
    "collapsed": true
   },
   "outputs": [],
   "source": [
    "def api_token():\n",
    "    token_file = Path('token.txt')\n",
    "    if not token_file.exists():\n",
    "        raise IOError('Please create a token at github.com, and save it in {}'.format(token_file))\n",
    "\n",
    "    token = token_file.read_text().strip()\n",
    "    return token\n",
    "\n",
    "\n",
    "token = api_token()"
   ]
  },
  {
   "cell_type": "markdown",
   "metadata": {},
   "source": [
    "Now that we have a personal access token, let's define the headers that will allow us to use it:"
   ]
  },
  {
   "cell_type": "code",
   "execution_count": 3,
   "metadata": {
    "collapsed": true
   },
   "outputs": [],
   "source": [
    "headers = {'Authorization': 'token {}'.format(token),\n",
    "           'Accept': 'application/vnd.github.v3+json'}\n",
    "API_URL = 'https://api.github.com'"
   ]
  },
  {
   "cell_type": "markdown",
   "metadata": {},
   "source": [
    "Finally, we are ready. Let's find out what the \"login\" (username) is for this personal access token."
   ]
  },
  {
   "cell_type": "code",
   "execution_count": 32,
   "metadata": {},
   "outputs": [
    {
     "name": "stdout",
     "output_type": "stream",
     "text": [
      "{'avatar_url': 'https://avatars3.githubusercontent.com/u/810663?v=4',\n",
      " 'bio': 'Scientific software engineer and problem solver.',\n",
      " 'blog': 'https://pelson.github.io',\n",
      " 'company': None,\n",
      " 'created_at': '2011-05-25T20:18:23Z',\n",
      " 'email': 'pelson.pub@gmail.com',\n",
      " 'events_url': 'https://api.github.com/users/pelson/events{/privacy}',\n",
      " 'followers': 87,\n",
      " 'followers_url': 'https://api.github.com/users/pelson/followers',\n",
      " 'following': 23,\n",
      " 'following_url': 'https://api.github.com/users/pelson/following{/other_user}',\n",
      " 'gists_url': 'https://api.github.com/users/pelson/gists{/gist_id}',\n",
      " 'gravatar_id': '',\n",
      " 'hireable': True,\n",
      " 'html_url': 'https://github.com/pelson',\n",
      " 'id': 810663,\n",
      " 'location': 'UK',\n",
      " 'login': 'pelson',\n",
      " 'name': 'Phil Elson',\n",
      " 'organizations_url': 'https://api.github.com/users/pelson/orgs',\n",
      " 'public_gists': 55,\n",
      " 'public_repos': 168,\n",
      " 'received_events_url': 'https://api.github.com/users/pelson/received_events',\n",
      " 'repos_url': 'https://api.github.com/users/pelson/repos',\n",
      " 'site_admin': False,\n",
      " 'starred_url': 'https://api.github.com/users/pelson/starred{/owner}{/repo}',\n",
      " 'subscriptions_url': 'https://api.github.com/users/pelson/subscriptions',\n",
      " 'type': 'User',\n",
      " 'updated_at': '2017-08-07T09:38:01Z',\n",
      " 'url': 'https://api.github.com/users/pelson'}\n"
     ]
    }
   ],
   "source": [
    "# The endpoint target.\n",
    "target = '/user'\n",
    "\n",
    "# The actual HTTP request\n",
    "resp = requests.get('{}{}'.format(API_URL, target),\n",
    "                    headers=headers)\n",
    "\n",
    "# Raise an error if we didn't get a 200 return code.\n",
    "resp.raise_for_status()\n",
    "\n",
    "# Assume the response is JSON, and get hold of it.\n",
    "content = resp.json()\n",
    "\n",
    "# Print the content so that we know what a GitHub response actually looks like.\n",
    "pprint(content)\n",
    "\n",
    "# Get hold of the user's login ID\n",
    "login = content['login']"
   ]
  },
  {
   "cell_type": "markdown",
   "metadata": {},
   "source": [
    "Now, let's look at all the repos that this user has access to:"
   ]
  },
  {
   "cell_type": "code",
   "execution_count": 8,
   "metadata": {},
   "outputs": [
    {
     "name": "stdout",
     "output_type": "stream",
     "text": [
      "{'archive_url': 'https://api.github.com/repos/bblay/iris_logo/{archive_format}{/ref}',\n",
      " 'assignees_url': 'https://api.github.com/repos/bblay/iris_logo/assignees{/user}',\n",
      " 'blobs_url': 'https://api.github.com/repos/bblay/iris_logo/git/blobs{/sha}',\n",
      " 'branches_url': 'https://api.github.com/repos/bblay/iris_logo/branches{/branch}',\n",
      " 'clone_url': 'https://github.com/bblay/iris_logo.git',\n",
      " 'collaborators_url': 'https://api.github.com/repos/bblay/iris_logo/collaborators{/collaborator}',\n",
      " 'comments_url': 'https://api.github.com/repos/bblay/iris_logo/comments{/number}',\n",
      " 'commits_url': 'https://api.github.com/repos/bblay/iris_logo/commits{/sha}',\n",
      " 'compare_url': 'https://api.github.com/repos/bblay/iris_logo/compare/{base}...{head}',\n",
      " 'contents_url': 'https://api.github.com/repos/bblay/iris_logo/contents/{+path}',\n",
      " 'contributors_url': 'https://api.github.com/repos/bblay/iris_logo/contributors',\n",
      " 'created_at': '2012-10-06T12:12:49Z',\n",
      " 'default_branch': 'master',\n",
      " 'deployments_url': 'https://api.github.com/repos/bblay/iris_logo/deployments',\n",
      " 'description': \"Discussing the kind donations made for Iris' logo.\",\n",
      " 'downloads_url': 'https://api.github.com/repos/bblay/iris_logo/downloads',\n",
      " 'events_url': 'https://api.github.com/repos/bblay/iris_logo/events',\n",
      " 'fork': False,\n",
      " 'forks': 2,\n",
      " 'forks_count': 2,\n",
      " 'forks_url': 'https://api.github.com/repos/bblay/iris_logo/forks',\n",
      " 'full_name': 'bblay/iris_logo',\n",
      " 'git_commits_url': 'https://api.github.com/repos/bblay/iris_logo/git/commits{/sha}',\n",
      " 'git_refs_url': 'https://api.github.com/repos/bblay/iris_logo/git/refs{/sha}',\n",
      " 'git_tags_url': 'https://api.github.com/repos/bblay/iris_logo/git/tags{/sha}',\n",
      " 'git_url': 'git://github.com/bblay/iris_logo.git',\n",
      " 'has_downloads': True,\n",
      " 'has_issues': True,\n",
      " 'has_pages': False,\n",
      " 'has_projects': True,\n",
      " 'has_wiki': True,\n",
      " 'homepage': None,\n",
      " 'hooks_url': 'https://api.github.com/repos/bblay/iris_logo/hooks',\n",
      " 'html_url': 'https://github.com/bblay/iris_logo',\n",
      " 'id': 6102462,\n",
      " 'issue_comment_url': 'https://api.github.com/repos/bblay/iris_logo/issues/comments{/number}',\n",
      " 'issue_events_url': 'https://api.github.com/repos/bblay/iris_logo/issues/events{/number}',\n",
      " 'issues_url': 'https://api.github.com/repos/bblay/iris_logo/issues{/number}',\n",
      " 'keys_url': 'https://api.github.com/repos/bblay/iris_logo/keys{/key_id}',\n",
      " 'labels_url': 'https://api.github.com/repos/bblay/iris_logo/labels{/name}',\n",
      " 'language': None,\n",
      " 'languages_url': 'https://api.github.com/repos/bblay/iris_logo/languages',\n",
      " 'merges_url': 'https://api.github.com/repos/bblay/iris_logo/merges',\n",
      " 'milestones_url': 'https://api.github.com/repos/bblay/iris_logo/milestones{/number}',\n",
      " 'mirror_url': None,\n",
      " 'name': 'iris_logo',\n",
      " 'notifications_url': 'https://api.github.com/repos/bblay/iris_logo/notifications{?since,all,participating}',\n",
      " 'open_issues': 0,\n",
      " 'open_issues_count': 0,\n",
      " 'owner': {'avatar_url': 'https://avatars2.githubusercontent.com/u/2048530?v=4',\n",
      "           'events_url': 'https://api.github.com/users/bblay/events{/privacy}',\n",
      "           'followers_url': 'https://api.github.com/users/bblay/followers',\n",
      "           'following_url': 'https://api.github.com/users/bblay/following{/other_user}',\n",
      "           'gists_url': 'https://api.github.com/users/bblay/gists{/gist_id}',\n",
      "           'gravatar_id': '',\n",
      "           'html_url': 'https://github.com/bblay',\n",
      "           'id': 2048530,\n",
      "           'login': 'bblay',\n",
      "           'organizations_url': 'https://api.github.com/users/bblay/orgs',\n",
      "           'received_events_url': 'https://api.github.com/users/bblay/received_events',\n",
      "           'repos_url': 'https://api.github.com/users/bblay/repos',\n",
      "           'site_admin': False,\n",
      "           'starred_url': 'https://api.github.com/users/bblay/starred{/owner}{/repo}',\n",
      "           'subscriptions_url': 'https://api.github.com/users/bblay/subscriptions',\n",
      "           'type': 'User',\n",
      "           'url': 'https://api.github.com/users/bblay'},\n",
      " 'permissions': {'admin': False, 'pull': True, 'push': True},\n",
      " 'private': False,\n",
      " 'pulls_url': 'https://api.github.com/repos/bblay/iris_logo/pulls{/number}',\n",
      " 'pushed_at': '2014-02-12T22:06:49Z',\n",
      " 'releases_url': 'https://api.github.com/repos/bblay/iris_logo/releases{/id}',\n",
      " 'size': 6179,\n",
      " 'ssh_url': 'git@github.com:bblay/iris_logo.git',\n",
      " 'stargazers_count': 0,\n",
      " 'stargazers_url': 'https://api.github.com/repos/bblay/iris_logo/stargazers',\n",
      " 'statuses_url': 'https://api.github.com/repos/bblay/iris_logo/statuses/{sha}',\n",
      " 'subscribers_url': 'https://api.github.com/repos/bblay/iris_logo/subscribers',\n",
      " 'subscription_url': 'https://api.github.com/repos/bblay/iris_logo/subscription',\n",
      " 'svn_url': 'https://github.com/bblay/iris_logo',\n",
      " 'tags_url': 'https://api.github.com/repos/bblay/iris_logo/tags',\n",
      " 'teams_url': 'https://api.github.com/repos/bblay/iris_logo/teams',\n",
      " 'trees_url': 'https://api.github.com/repos/bblay/iris_logo/git/trees{/sha}',\n",
      " 'updated_at': '2014-02-12T22:06:49Z',\n",
      " 'url': 'https://api.github.com/repos/bblay/iris_logo',\n",
      " 'watchers': 0,\n",
      " 'watchers_count': 0}\n"
     ]
    }
   ],
   "source": [
    "target = '/user/repos'\n",
    "resp = requests.get('{}{}'.format(API_URL, target),\n",
    "                    headers=headers)\n",
    "resp.raise_for_status()\n",
    "content = resp.json()\n",
    "pprint(content[0])"
   ]
  },
  {
   "cell_type": "code",
   "execution_count": 9,
   "metadata": {},
   "outputs": [
    {
     "name": "stdout",
     "output_type": "stream",
     "text": [
      "['bblay/iris_logo',\n",
      " 'conda-forge/addict-feedstock',\n",
      " 'conda-forge/ads-feedstock',\n",
      " 'conda-forge/affine-feedstock',\n",
      " 'conda-forge/agate-dbf-feedstock']\n"
     ]
    }
   ],
   "source": [
    "pprint([repo['full_name'] for repo in content][:5])"
   ]
  },
  {
   "cell_type": "markdown",
   "metadata": {},
   "source": [
    "Similarly, let's get hold of all the repos in the user's GitHub account:"
   ]
  },
  {
   "cell_type": "code",
   "execution_count": 25,
   "metadata": {},
   "outputs": [
    {
     "name": "stdout",
     "output_type": "stream",
     "text": [
      "['pelson/anaconda-build',\n",
      " 'pelson/anaconda-list-distributions',\n",
      " 'pelson/anaconda-recipes',\n",
      " 'pelson/antigrain',\n",
      " 'pelson/artview-feedstock']\n"
     ]
    }
   ],
   "source": [
    "target = '/users/{}/repos'.format(login)\n",
    "resp = requests.get('{}{}'.format(API_URL, target),\n",
    "                    headers=headers)\n",
    "resp.raise_for_status()\n",
    "content = resp.json()\n",
    "\n",
    "pprint([repo['full_name'] for repo in content][:5])"
   ]
  },
  {
   "cell_type": "markdown",
   "metadata": {},
   "source": [
    "There are a number of repos starting with \"a\" in this user's account. Let's change the sort order by modifying the request:"
   ]
  },
  {
   "cell_type": "code",
   "execution_count": 28,
   "metadata": {},
   "outputs": [
    {
     "name": "stdout",
     "output_type": "stream",
     "text": [
      "['pelson/intro-to-using-requests-with-github-API',\n",
      " 'pelson/my-first-heroku-tornado-app',\n",
      " 'pelson/example-supervisord-manager',\n",
      " 'pelson/conda-rpms',\n",
      " 'pelson/python-gnupg']\n"
     ]
    }
   ],
   "source": [
    "target = '/users/{}/repos'.format(login)\n",
    "\n",
    "params = {'sort': 'updated'}\n",
    "resp = requests.get('{}{}'.format(API_URL, target),\n",
    "                    params=arguments,\n",
    "                    headers=headers)\n",
    "resp.raise_for_status()\n",
    "content = resp.json()\n",
    "\n",
    "pprint([repo['full_name'] for repo in content][:5])"
   ]
  },
  {
   "cell_type": "markdown",
   "metadata": {},
   "source": [
    "The GitHub API is an endless trove of information. For example, one can get hold of a number of events that the authenticated user did with:"
   ]
  },
  {
   "cell_type": "code",
   "execution_count": 31,
   "metadata": {},
   "outputs": [
    {
     "name": "stdout",
     "output_type": "stream",
     "text": [
      "{'CreateEvent',\n",
      " 'GollumEvent',\n",
      " 'IssueCommentEvent',\n",
      " 'PullRequestEvent',\n",
      " 'PullRequestReviewCommentEvent',\n",
      " 'PushEvent'}\n"
     ]
    }
   ],
   "source": [
    "target = '/users/{}/events'.format(login)\n",
    "\n",
    "params = {'sort': 'updated'}\n",
    "resp = requests.get('{}{}'.format(API_URL, target),\n",
    "                    params=arguments,\n",
    "                    headers=headers)\n",
    "resp.raise_for_status()\n",
    "content = resp.json()\n",
    "\n",
    "pprint({event['type'] for event in content})"
   ]
  }
 ],
 "metadata": {
  "kernelspec": {
   "display_name": "Python 3",
   "language": "python",
   "name": "python3"
  },
  "language_info": {
   "codemirror_mode": {
    "name": "ipython",
    "version": 3
   },
   "file_extension": ".py",
   "mimetype": "text/x-python",
   "name": "python",
   "nbconvert_exporter": "python",
   "pygments_lexer": "ipython3",
   "version": "3.5.2"
  }
 },
 "nbformat": 4,
 "nbformat_minor": 1
}
